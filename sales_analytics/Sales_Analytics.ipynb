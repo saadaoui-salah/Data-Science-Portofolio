{
  "nbformat": 4,
  "nbformat_minor": 0,
  "metadata": {
    "colab": {
      "name": "Sales_Analytics.ipynb",
      "private_outputs": true,
      "provenance": []
    },
    "kernelspec": {
      "name": "python3",
      "display_name": "Python 3"
    },
    "language_info": {
      "name": "python"
    },
    "accelerator": "TPU"
  },
  "cells": [
    {
      "cell_type": "markdown",
      "metadata": {
        "id": "hxalGMGxpWum"
      },
      "source": [
        "## Install & Import necessary libreries"
      ]
    },
    {
      "cell_type": "code",
      "metadata": {
        "id": "Ct7LCCa6pZs9"
      },
      "source": [
        "# install \n",
        "!pip install pandas\n",
        "!pip install matplotlib"
      ],
      "execution_count": null,
      "outputs": []
    },
    {
      "cell_type": "code",
      "metadata": {
        "id": "XJW_PULipeFJ"
      },
      "source": [
        "# import \n",
        "import pandas as pd\n",
        "import matplotlib.pyplot as plt\n",
        "import os"
      ],
      "execution_count": null,
      "outputs": []
    },
    {
      "cell_type": "markdown",
      "metadata": {
        "id": "t-gPq87fpi-N"
      },
      "source": [
        "### Task 1: merging the 12 months of sales data into a singel file"
      ]
    },
    {
      "cell_type": "code",
      "metadata": {
        "id": "chz17LD2ppls"
      },
      "source": [
        "files_names = os.listdir('./sales_data')\n",
        "data_frames = []\n",
        "\n",
        "for file_name in files_names:\n",
        "  df = pd.read_csv(f'./sales_data/{file_name}')\n",
        "  data_frames.append(df)\n",
        "\n",
        "df = pd.concat(data_frames)\n",
        "df.head()"
      ],
      "execution_count": null,
      "outputs": []
    },
    {
      "cell_type": "markdown",
      "metadata": {
        "id": "xmX5RaoapR-T"
      },
      "source": [
        "## Task 2: clean up the data"
      ]
    },
    {
      "cell_type": "code",
      "metadata": {
        "id": "vmeGRK5bpYaY"
      },
      "source": [
        "# display NaN rows\n",
        "nan_df = df[df.isna().any(axis=1)]\n",
        "nan_df.head()"
      ],
      "execution_count": null,
      "outputs": []
    },
    {
      "cell_type": "code",
      "metadata": {
        "id": "GAeV7-06sOV_"
      },
      "source": [
        "# delete rows whos contain NaN value\n",
        "df = df.dropna(how='all')"
      ],
      "execution_count": null,
      "outputs": []
    },
    {
      "cell_type": "code",
      "metadata": {
        "id": "M3-K0I3GsVWg"
      },
      "source": [
        "# display rows whos contain or value\n",
        "or_rows = df[df['Order Date'].str[0:2] == 'Or']\n",
        "or_rows.head()"
      ],
      "execution_count": null,
      "outputs": []
    },
    {
      "cell_type": "code",
      "metadata": {
        "id": "FEnrrImJstcw"
      },
      "source": [
        "# delete Or rows\n",
        "df = df[df['Order Date'].str[0:2]  != 'Or']"
      ],
      "execution_count": null,
      "outputs": []
    },
    {
      "cell_type": "markdown",
      "metadata": {
        "id": "adOPQAwEm-t8"
      },
      "source": [
        "## Task 3: add the month column"
      ]
    },
    {
      "cell_type": "code",
      "metadata": {
        "id": "jlphs3OGoDfQ"
      },
      "source": [
        "df['Month'] = df['Order Date'].str[0:2]\n",
        "df['Month'] = df['Month'].astype('int32')\n",
        "df.head()"
      ],
      "execution_count": null,
      "outputs": []
    },
    {
      "cell_type": "markdown",
      "metadata": {
        "id": "l6YMp_alt2le"
      },
      "source": [
        "## Qst 1: what was the best sales for month ? and how much earned that month ?"
      ]
    },
    {
      "cell_type": "markdown",
      "metadata": {
        "id": "CExeUXbm5nVo"
      },
      "source": [
        "## Task 1: add sells column"
      ]
    },
    {
      "cell_type": "code",
      "metadata": {
        "id": "V2A7XFs8uPwt"
      },
      "source": [
        "df['sales'] = df['Price Each'].astype('float32') * df['Quantity Ordered'].astype('int32')\n",
        "df.head()"
      ],
      "execution_count": null,
      "outputs": []
    },
    {
      "cell_type": "markdown",
      "metadata": {
        "id": "FXCFdZC161yY"
      },
      "source": [
        "## Task 2: display the bar plot"
      ]
    },
    {
      "cell_type": "code",
      "metadata": {
        "id": "6osTr3yQ7GKR"
      },
      "source": [
        "sales_by_month = df.groupby('Month').sum()\n",
        "months = range(1,13)\n",
        "plt.bar(months,sales_by_month['sales'])\n",
        "plt.xticks(months)\n",
        "plt.xlabel('Months number')\n",
        "plt.ylabel('Sales in USD $')\n",
        "plt.show()"
      ],
      "execution_count": null,
      "outputs": []
    },
    {
      "cell_type": "code",
      "metadata": {
        "id": "f-SYQ_Ms9Fn8"
      },
      "source": [
        "sales_by_month\n"
      ],
      "execution_count": null,
      "outputs": []
    },
    {
      "cell_type": "markdown",
      "metadata": {
        "id": "hORv-KYa8AOB"
      },
      "source": [
        "now we can see that the best sales for month is the month number 12 which is december and he earned 4613443.50"
      ]
    },
    {
      "cell_type": "markdown",
      "metadata": {
        "id": "OyzHpVX3-LAB"
      },
      "source": [
        "## Qst 2: what city had the highest number of sales"
      ]
    },
    {
      "cell_type": "markdown",
      "metadata": {
        "id": "ZQBJr7Rw-VMw"
      },
      "source": [
        "### Task 1: add city column"
      ]
    },
    {
      "cell_type": "code",
      "metadata": {
        "id": "iNB3NolA-Uni"
      },
      "source": [
        "df['City'] = df['Purchase Address'].apply(lambda x: x.split(',')[1])\n",
        "df.head()"
      ],
      "execution_count": null,
      "outputs": []
    },
    {
      "cell_type": "code",
      "metadata": {
        "id": "2qsA56id_0X8"
      },
      "source": [
        "sales_by_city = df.groupby('City').sum()\n",
        "cities = df['City'].unique() \n",
        "plt.bar(cities,sales_by_city['sales'])\n",
        "plt.xticks(cities,rotation='vertical',size=8)\n",
        "plt.xlabel('Cities')\n",
        "plt.ylabel('Sales in USD $')\n",
        "plt.show()"
      ],
      "execution_count": null,
      "outputs": []
    },
    {
      "cell_type": "code",
      "metadata": {
        "id": "Dc3uU1UkBd7X"
      },
      "source": [
        "sales_by_city"
      ],
      "execution_count": null,
      "outputs": []
    },
    {
      "cell_type": "markdown",
      "metadata": {
        "id": "hTVxx3ZXBg8g"
      },
      "source": [
        "now we can see that the city whos had the highest number of sales is Atlanta"
      ]
    },
    {
      "cell_type": "markdown",
      "metadata": {
        "id": "YnbobQBBCGhk"
      },
      "source": [
        "Qst 3: What time should we display advertisements to maximize likelejood of custumer's buying product"
      ]
    },
    {
      "cell_type": "code",
      "metadata": {
        "id": "U2FaJDYJCfn6"
      },
      "source": [
        "# convert Order Date values to datetime\n",
        "df['Order Date'] = pd.to_datetime(df['Order Date'])\n",
        "df['Hour'] = df['Order Date'].dt.hour\n",
        "df.head()"
      ],
      "execution_count": null,
      "outputs": []
    },
    {
      "cell_type": "code",
      "metadata": {
        "id": "ZnzznU_ZDz7J"
      },
      "source": [
        "hours = df['Hour'].unique()\n",
        "sales_by_hour = df.groupby(['Hour']).count()\n",
        "plt.plot(sales_by_hour['sales'])\n",
        "plt.xticks(hours,rotation='vertical',size=8)\n",
        "plt.grid()\n",
        "plt.xlabel('hours')\n",
        "plt.ylabel('Sales in USD $')\n",
        "plt.show()\n",
        "sales_by_hour.head()"
      ],
      "execution_count": null,
      "outputs": []
    },
    {
      "cell_type": "markdown",
      "metadata": {
        "id": "UuvUu7a8HZ6D"
      },
      "source": [
        "Answer : 20h and 12h"
      ]
    },
    {
      "cell_type": "markdown",
      "metadata": {
        "id": "uvoKQ4K0HnBp"
      },
      "source": [
        "## Qst 4: what products are most often sold together ?"
      ]
    },
    {
      "cell_type": "markdown",
      "metadata": {
        "id": "0Yimuf-TfTcn"
      },
      "source": [
        "### Task 1: get duplicated order id & group the products"
      ]
    },
    {
      "cell_type": "code",
      "metadata": {
        "id": "WLsniv_MHi3E"
      },
      "source": [
        "duplicated_id = df[df['Order ID'].duplicated(keep=False)]\n",
        "duplicated_id['Grouped'] = duplicated_id.groupby('Order ID')['Product'].transform(lambda x: ','.join(x))\n",
        "grouped_products = duplicated_id[['Order ID','Grouped']].drop_duplicates()\n",
        "grouped_products.head()"
      ],
      "execution_count": null,
      "outputs": []
    },
    {
      "cell_type": "markdown",
      "metadata": {
        "id": "nutSmO4PffP_"
      },
      "source": [
        "### Task 2: get most product sold together"
      ]
    },
    {
      "cell_type": "code",
      "metadata": {
        "id": "I4zRBYVOfoN6"
      },
      "source": [
        "from itertools import combinations\n",
        "from collections import Counter\n",
        "\n",
        "count = Counter()\n",
        "\n",
        "for row in grouped_products['Grouped']:\n",
        "  row_list = row.split(',')\n",
        "  count.update(Counter(combinations(row_list,2)))\n",
        "\n",
        "count.most_common(10)"
      ],
      "execution_count": null,
      "outputs": []
    }
  ]
}